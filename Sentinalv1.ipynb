{
 "cells": [
  {
   "cell_type": "code",
   "execution_count": 2,
   "metadata": {},
   "outputs": [],
   "source": [
    "import os\n",
    "import numpy as np\n",
    "import rasterio\n",
    "import pickle\n",
    "import skimage.feature"
   ]
  },
  {
   "cell_type": "code",
   "execution_count": 3,
   "metadata": {},
   "outputs": [],
   "source": [
    "\n",
    "import warnings\n",
    "warnings.filterwarnings('ignore')\n",
    "import pandas as pd\n",
    "import geopandas as gpd\n",
    "import matplotlib.pyplot as plt\n",
    "from matplotlib.patches import Patch\n",
    "from matplotlib.colors import ListedColormap\n",
    "from tqdm.auto import tqdm\n",
    "import torch\n",
    "import torch.nn as nn\n",
    "import torch.optim as optim\n",
    "from torch.utils.data import DataLoader, TensorDataset\n"
   ]
  },
  {
   "cell_type": "markdown",
   "metadata": {},
   "source": [
    "Loading Sentinal 1 Data"
   ]
  },
  {
   "cell_type": "code",
   "execution_count": 4,
   "metadata": {},
   "outputs": [],
   "source": [
    "# Define the base directory for the data\n",
    "base_dir = r'c:\\\\Users\\\\Dell\\\\Desktop\\\\Project downlaods'  # Update this to your actual directory path\n",
    "\n",
    "# Paths to specific data files\n",
    "\n",
    "mask_dir = os.path.join(base_dir, 'mask')\n",
    "bbox_file = os.path.join(base_dir, 'bbox.pkl')\n",
    "meta_info_file = os.path.join(base_dir, 'meta_info.pkl')\n",
    "timestamp_file = os.path.join(base_dir, 'timestamp.pkl')\n",
    "\n",
    "# Load polarization data\n",
    "vv_path = os.path.join(base_dir, 'VV.npy')\n",
    "vh_path = os.path.join(base_dir, 'VH.npy')\n",
    "vv_data = np.load(vv_path)\n",
    "vh_data = np.load(vh_path)"
   ]
  },
  {
   "cell_type": "code",
   "execution_count": 5,
   "metadata": {},
   "outputs": [
    {
     "name": "stdout",
     "output_type": "stream",
     "text": [
      "VV Data Shape: (120, 2400, 2400, 1)\n",
      "VH Data Shape: (120, 2400, 2400, 1)\n",
      "Mask Data Shape: (120, 2400, 2400, 1)\n",
      "Bounding Box: 408000.1106542662,5831999.778170622,432000.083625369,5856000.355934586\n"
     ]
    },
    {
     "name": "stderr",
     "output_type": "stream",
     "text": [
      "C:\\Users\\Dell\\AppData\\Local\\Temp\\ipykernel_872\\4038265090.py:15: SHDeprecationWarning: The string representation of `BBox` will change to match its `repr` representation.\n",
      "  print(\"Bounding Box:\", bbox)\n"
     ]
    }
   ],
   "source": [
    "# Load mask data\n",
    "# Assuming there's a specific mask file you need, update the file name accordingly\n",
    "mask_path = os.path.join(base_dir, 'MASK.npy')  # Update 'MASK.npy' if needed\n",
    "mask_data = np.load(mask_path)\n",
    "\n",
    "# Load bounding box information\n",
    "with open(bbox_file, 'rb') as f:\n",
    "    bbox = pickle.load(f)\n",
    "\n",
    "# Example of how to use this data\n",
    "# Print basic information\n",
    "print(\"VV Data Shape:\", vv_data.shape)\n",
    "print(\"VH Data Shape:\", vh_data.shape)\n",
    "print(\"Mask Data Shape:\", mask_data.shape)\n",
    "print(\"Bounding Box:\", bbox)\n",
    "\n"
   ]
  },
  {
   "cell_type": "code",
   "execution_count": 6,
   "metadata": {},
   "outputs": [],
   "source": [
    "from abc import ABC, abstractmethod\n",
    "\n",
    "class _FeatureDict(ABC):\n",
    "    @abstractmethod\n",
    "    def _parse_feature_value(self, value):\n",
    "        \"\"\"Implementation to parse feature values.\"\"\"\n",
    "        pass\n",
    "\n",
    "# Implement the class with the required method\n",
    "class ConcreteFeatureDict(_FeatureDict):\n",
    "    def _parse_feature_value(self, value):\n",
    "        # Actual implementation here\n",
    "        return value\n"
   ]
  },
  {
   "cell_type": "code",
   "execution_count": 7,
   "metadata": {},
   "outputs": [
    {
     "name": "stdout",
     "output_type": "stream",
     "text": [
      "Timestamps: [datetime.datetime(2019, 1, 4, 16, 51, 27, tzinfo=tzlocal()), datetime.datetime(2019, 1, 5, 16, 44, 4, tzinfo=tzlocal()), datetime.datetime(2019, 1, 10, 16, 52, 7, tzinfo=tzlocal()), datetime.datetime(2019, 1, 11, 16, 43, 22, tzinfo=tzlocal()), datetime.datetime(2019, 1, 16, 16, 51, 27, tzinfo=tzlocal()), datetime.datetime(2019, 1, 17, 16, 44, 4, tzinfo=tzlocal()), datetime.datetime(2019, 1, 22, 16, 52, 7, tzinfo=tzlocal()), datetime.datetime(2019, 1, 23, 16, 43, 22, tzinfo=tzlocal()), datetime.datetime(2019, 1, 28, 16, 51, 26, tzinfo=tzlocal()), datetime.datetime(2019, 2, 3, 16, 52, 7, tzinfo=tzlocal()), datetime.datetime(2019, 2, 4, 16, 43, 21, tzinfo=tzlocal()), datetime.datetime(2019, 2, 9, 16, 51, 26, tzinfo=tzlocal()), datetime.datetime(2019, 2, 10, 16, 44, 3, tzinfo=tzlocal()), datetime.datetime(2019, 2, 15, 16, 52, 6, tzinfo=tzlocal()), datetime.datetime(2019, 2, 16, 16, 43, 21, tzinfo=tzlocal()), datetime.datetime(2019, 2, 21, 16, 51, 26, tzinfo=tzlocal()), datetime.datetime(2019, 2, 22, 16, 44, 3, tzinfo=tzlocal()), datetime.datetime(2019, 2, 27, 16, 52, 6, tzinfo=tzlocal()), datetime.datetime(2019, 2, 28, 16, 43, 21, tzinfo=tzlocal()), datetime.datetime(2019, 3, 5, 16, 51, 26, tzinfo=tzlocal()), datetime.datetime(2019, 3, 6, 16, 44, 3, tzinfo=tzlocal()), datetime.datetime(2019, 3, 11, 16, 52, 6, tzinfo=tzlocal()), datetime.datetime(2019, 3, 12, 16, 43, 21, tzinfo=tzlocal()), datetime.datetime(2019, 3, 17, 16, 51, 26, tzinfo=tzlocal()), datetime.datetime(2019, 3, 18, 16, 44, 3, tzinfo=tzlocal()), datetime.datetime(2019, 3, 23, 16, 52, 7, tzinfo=tzlocal()), datetime.datetime(2019, 3, 24, 16, 43, 21, tzinfo=tzlocal()), datetime.datetime(2019, 3, 29, 16, 51, 26, tzinfo=tzlocal()), datetime.datetime(2019, 3, 30, 16, 44, 3, tzinfo=tzlocal()), datetime.datetime(2019, 4, 4, 16, 52, 7, tzinfo=tzlocal()), datetime.datetime(2019, 4, 5, 16, 43, 21, tzinfo=tzlocal()), datetime.datetime(2019, 4, 10, 16, 51, 26, tzinfo=tzlocal()), datetime.datetime(2019, 4, 11, 16, 44, 3, tzinfo=tzlocal()), datetime.datetime(2019, 4, 16, 16, 52, 7, tzinfo=tzlocal()), datetime.datetime(2019, 4, 17, 16, 43, 22, tzinfo=tzlocal()), datetime.datetime(2019, 4, 22, 16, 51, 27, tzinfo=tzlocal()), datetime.datetime(2019, 4, 23, 16, 44, 4, tzinfo=tzlocal()), datetime.datetime(2019, 4, 28, 16, 52, 8, tzinfo=tzlocal()), datetime.datetime(2019, 4, 29, 16, 43, 23, tzinfo=tzlocal()), datetime.datetime(2019, 5, 4, 16, 51, 27, tzinfo=tzlocal()), datetime.datetime(2019, 5, 5, 16, 44, 4, tzinfo=tzlocal()), datetime.datetime(2019, 5, 10, 16, 52, 8, tzinfo=tzlocal()), datetime.datetime(2019, 5, 11, 16, 43, 23, tzinfo=tzlocal()), datetime.datetime(2019, 5, 16, 16, 51, 28, tzinfo=tzlocal()), datetime.datetime(2019, 5, 17, 16, 44, 5, tzinfo=tzlocal()), datetime.datetime(2019, 5, 22, 16, 52, 9, tzinfo=tzlocal()), datetime.datetime(2019, 5, 23, 16, 43, 24, tzinfo=tzlocal()), datetime.datetime(2019, 5, 28, 16, 51, 28, tzinfo=tzlocal()), datetime.datetime(2019, 5, 29, 16, 44, 6, tzinfo=tzlocal()), datetime.datetime(2019, 6, 3, 16, 52, 9, tzinfo=tzlocal()), datetime.datetime(2019, 6, 4, 16, 43, 24, tzinfo=tzlocal()), datetime.datetime(2019, 6, 9, 16, 51, 29, tzinfo=tzlocal()), datetime.datetime(2019, 6, 10, 16, 44, 6, tzinfo=tzlocal()), datetime.datetime(2019, 6, 15, 16, 52, 10, tzinfo=tzlocal()), datetime.datetime(2019, 6, 16, 16, 43, 25, tzinfo=tzlocal()), datetime.datetime(2019, 6, 21, 16, 51, 30, tzinfo=tzlocal()), datetime.datetime(2019, 6, 22, 16, 44, 7, tzinfo=tzlocal()), datetime.datetime(2019, 6, 27, 16, 52, 11, tzinfo=tzlocal()), datetime.datetime(2019, 6, 28, 16, 43, 25, tzinfo=tzlocal()), datetime.datetime(2019, 7, 3, 16, 51, 31, tzinfo=tzlocal()), datetime.datetime(2019, 7, 4, 16, 44, 8, tzinfo=tzlocal()), datetime.datetime(2019, 7, 9, 16, 52, 11, tzinfo=tzlocal()), datetime.datetime(2019, 7, 10, 16, 43, 30, tzinfo=tzlocal()), datetime.datetime(2019, 7, 15, 16, 51, 31, tzinfo=tzlocal()), datetime.datetime(2019, 7, 16, 16, 44, 9, tzinfo=tzlocal()), datetime.datetime(2019, 7, 21, 16, 52, 12, tzinfo=tzlocal()), datetime.datetime(2019, 7, 22, 16, 43, 27, tzinfo=tzlocal()), datetime.datetime(2019, 7, 27, 16, 51, 32, tzinfo=tzlocal()), datetime.datetime(2019, 7, 28, 16, 44, 9, tzinfo=tzlocal()), datetime.datetime(2019, 8, 2, 16, 52, 13, tzinfo=tzlocal()), datetime.datetime(2019, 8, 3, 16, 43, 28, tzinfo=tzlocal()), datetime.datetime(2019, 8, 8, 16, 51, 33, tzinfo=tzlocal()), datetime.datetime(2019, 8, 9, 16, 44, 10, tzinfo=tzlocal()), datetime.datetime(2019, 8, 14, 16, 52, 14, tzinfo=tzlocal()), datetime.datetime(2019, 8, 15, 16, 43, 29, tzinfo=tzlocal()), datetime.datetime(2019, 8, 20, 16, 51, 33, tzinfo=tzlocal()), datetime.datetime(2019, 8, 21, 16, 44, 11, tzinfo=tzlocal()), datetime.datetime(2019, 8, 26, 16, 52, 14, tzinfo=tzlocal()), datetime.datetime(2019, 8, 27, 16, 43, 29, tzinfo=tzlocal()), datetime.datetime(2019, 9, 1, 16, 51, 34, tzinfo=tzlocal()), datetime.datetime(2019, 9, 2, 16, 44, 11, tzinfo=tzlocal()), datetime.datetime(2019, 9, 7, 16, 52, 15, tzinfo=tzlocal()), datetime.datetime(2019, 9, 8, 16, 43, 30, tzinfo=tzlocal()), datetime.datetime(2019, 9, 14, 16, 44, 12, tzinfo=tzlocal()), datetime.datetime(2019, 9, 19, 16, 52, 15, tzinfo=tzlocal()), datetime.datetime(2019, 9, 20, 16, 43, 30, tzinfo=tzlocal()), datetime.datetime(2019, 9, 25, 16, 51, 35, tzinfo=tzlocal()), datetime.datetime(2019, 9, 26, 16, 44, 12, tzinfo=tzlocal()), datetime.datetime(2019, 10, 1, 16, 52, 16, tzinfo=tzlocal()), datetime.datetime(2019, 10, 2, 16, 43, 31, tzinfo=tzlocal()), datetime.datetime(2019, 10, 7, 16, 51, 35, tzinfo=tzlocal()), datetime.datetime(2019, 10, 8, 16, 44, 12, tzinfo=tzlocal()), datetime.datetime(2019, 10, 13, 16, 52, 16, tzinfo=tzlocal()), datetime.datetime(2019, 10, 14, 16, 43, 31, tzinfo=tzlocal()), datetime.datetime(2019, 10, 19, 16, 51, 35, tzinfo=tzlocal()), datetime.datetime(2019, 10, 20, 16, 44, 12, tzinfo=tzlocal()), datetime.datetime(2019, 10, 25, 16, 52, 16, tzinfo=tzlocal()), datetime.datetime(2019, 10, 26, 16, 43, 31, tzinfo=tzlocal()), datetime.datetime(2019, 10, 31, 16, 51, 35, tzinfo=tzlocal()), datetime.datetime(2019, 11, 1, 16, 44, 13, tzinfo=tzlocal()), datetime.datetime(2019, 11, 6, 16, 52, 16, tzinfo=tzlocal()), datetime.datetime(2019, 11, 7, 16, 43, 30, tzinfo=tzlocal()), datetime.datetime(2019, 11, 12, 16, 51, 35, tzinfo=tzlocal()), datetime.datetime(2019, 11, 13, 16, 44, 13, tzinfo=tzlocal()), datetime.datetime(2019, 11, 18, 16, 52, 16, tzinfo=tzlocal()), datetime.datetime(2019, 11, 19, 16, 43, 30, tzinfo=tzlocal()), datetime.datetime(2019, 11, 24, 16, 51, 35, tzinfo=tzlocal()), datetime.datetime(2019, 11, 25, 16, 44, 12, tzinfo=tzlocal()), datetime.datetime(2019, 11, 30, 16, 52, 15, tzinfo=tzlocal()), datetime.datetime(2019, 12, 1, 16, 43, 30, tzinfo=tzlocal()), datetime.datetime(2019, 12, 6, 16, 51, 34, tzinfo=tzlocal()), datetime.datetime(2019, 12, 7, 16, 44, 12, tzinfo=tzlocal()), datetime.datetime(2019, 12, 12, 16, 52, 15, tzinfo=tzlocal()), datetime.datetime(2019, 12, 13, 16, 43, 30, tzinfo=tzlocal()), datetime.datetime(2019, 12, 18, 16, 51, 34, tzinfo=tzlocal()), datetime.datetime(2019, 12, 19, 16, 44, 11, tzinfo=tzlocal()), datetime.datetime(2019, 12, 24, 16, 52, 14, tzinfo=tzlocal()), datetime.datetime(2019, 12, 25, 16, 43, 29, tzinfo=tzlocal()), datetime.datetime(2019, 12, 30, 16, 51, 33, tzinfo=tzlocal()), datetime.datetime(2019, 12, 31, 16, 44, 11, tzinfo=tzlocal())]\n"
     ]
    }
   ],
   "source": [
    "# Load timestamps\n",
    "with open(timestamp_file, 'rb') as f:\n",
    "    timestamps = pickle.load(f)\n",
    "print(\"Timestamps:\", timestamps)"
   ]
  },
  {
   "cell_type": "code",
   "execution_count": 8,
   "metadata": {},
   "outputs": [
    {
     "name": "stdout",
     "output_type": "stream",
     "text": [
      "Processed data saved at: c:\\\\Users\\\\Dell\\\\Desktop\\\\Project downlaods\\processed_VV_data.npy\n"
     ]
    }
   ],
   "source": [
    "# Processing example: Masking the VV data\n",
    "masked_vv_data = np.where(mask_data == 1, vv_data, np.nan)  # Assuming mask value '1' means valid data\n",
    "\n",
    "# Save processed data (example)\n",
    "output_path = os.path.join(base_dir, 'processed_VV_data.npy')\n",
    "np.save(output_path, masked_vv_data)\n",
    "print(\"Processed data saved at:\", output_path)"
   ]
  },
  {
   "cell_type": "markdown",
   "metadata": {},
   "source": [
    "Loading Sentinal 2 Data\n",
    "    "
   ]
  },
  {
   "cell_type": "code",
   "execution_count": 9,
   "metadata": {},
   "outputs": [
    {
     "name": "stdout",
     "output_type": "stream",
     "text": [
      "File sizes (in bytes): {'azcopy_windows_amd64_10.25.1.zip': 16538997, 'BANDS.npy': 19906560128, 'bbox.pkl': 184, 'CLP.npy': 829440128, 'Crops_GT_Brandenburg_Doc.pdf': 71678, 'IS_DATA.npy': 829440128, 'meta_info.pkl': 348, 'NORM_FACTORS.npy': 704, 'requirements (1).txt': 105, 'requirements.txt': 105, 's1dataset.py': 7580, 's2dataset.py': 7868, 'SCL.npy': 829440128, 'sitemap.xml': 524, 'timestamp.pkl': 14759, 'visualization.ipynb': 595176, '__pycache__': 0}\n",
      "Error loading c:\\Users\\Dell\\Desktop\\Sentinal 2\\meta_info.pkl: Can't instantiate abstract class _FeatureDict with abstract method _parse_feature_value\n",
      "Bands shape: (4976640032,)\n",
      "CLP shape: (144, 2400, 2400, 1)\n",
      "IS_DATA shape: (144, 2400, 2400, 1)\n",
      "Normalization factors shape: (144, 1)\n",
      "SCL shape: (144, 2400, 2400, 1)\n",
      "Bounding box: 408000.1106542662,5831999.778170622,432000.083625369,5856000.355934586\n",
      "Metadata: None\n",
      "Timestamp: [datetime.datetime(2019, 1, 2, 10, 26, 3, tzinfo=tzlocal()), datetime.datetime(2019, 1, 4, 10, 16, 3, tzinfo=tzlocal()), datetime.datetime(2019, 1, 7, 10, 26, tzinfo=tzlocal()), datetime.datetime(2019, 1, 9, 10, 16, 7, tzinfo=tzlocal()), datetime.datetime(2019, 1, 12, 10, 26, 5, tzinfo=tzlocal()), datetime.datetime(2019, 1, 14, 10, 16, 4, tzinfo=tzlocal()), datetime.datetime(2019, 1, 17, 10, 26, 1, tzinfo=tzlocal()), datetime.datetime(2019, 1, 19, 10, 16, 8, tzinfo=tzlocal()), datetime.datetime(2019, 1, 22, 10, 26, 5, tzinfo=tzlocal()), datetime.datetime(2019, 1, 24, 10, 16, 5, tzinfo=tzlocal()), datetime.datetime(2019, 1, 27, 10, 26, 2, tzinfo=tzlocal()), datetime.datetime(2019, 1, 29, 10, 16, 9, tzinfo=tzlocal()), datetime.datetime(2019, 2, 1, 10, 26, 5, tzinfo=tzlocal()), datetime.datetime(2019, 2, 3, 10, 16, 5, tzinfo=tzlocal()), datetime.datetime(2019, 2, 6, 10, 26, 2, tzinfo=tzlocal()), datetime.datetime(2019, 2, 8, 10, 16, 9, tzinfo=tzlocal()), datetime.datetime(2019, 2, 11, 10, 26, 5, tzinfo=tzlocal()), datetime.datetime(2019, 2, 13, 10, 16, 5, tzinfo=tzlocal()), datetime.datetime(2019, 2, 16, 10, 26, 1, tzinfo=tzlocal()), datetime.datetime(2019, 2, 18, 10, 16, 8, tzinfo=tzlocal()), datetime.datetime(2019, 2, 21, 10, 27, 4, tzinfo=tzlocal()), datetime.datetime(2019, 2, 23, 10, 17, 22, tzinfo=tzlocal()), datetime.datetime(2019, 2, 26, 10, 38, 23, tzinfo=tzlocal()), datetime.datetime(2019, 2, 28, 10, 16, 42, tzinfo=tzlocal()), datetime.datetime(2019, 3, 3, 10, 31, 5, tzinfo=tzlocal()), datetime.datetime(2019, 3, 5, 10, 16, 43, tzinfo=tzlocal()), datetime.datetime(2019, 3, 8, 10, 25, 59, tzinfo=tzlocal()), datetime.datetime(2019, 3, 10, 10, 20, 36, tzinfo=tzlocal()), datetime.datetime(2019, 3, 13, 10, 30, 50, tzinfo=tzlocal()), datetime.datetime(2019, 3, 15, 10, 21, 18, tzinfo=tzlocal()), datetime.datetime(2019, 3, 18, 10, 26, 50, tzinfo=tzlocal()), datetime.datetime(2019, 3, 20, 10, 19, 52, tzinfo=tzlocal()), datetime.datetime(2019, 3, 23, 10, 33, 37, tzinfo=tzlocal()), datetime.datetime(2019, 3, 25, 10, 29, 36, tzinfo=tzlocal()), datetime.datetime(2019, 3, 28, 10, 39, 50, tzinfo=tzlocal()), datetime.datetime(2019, 3, 30, 10, 31, 30, tzinfo=tzlocal()), datetime.datetime(2019, 4, 2, 10, 27, 11, tzinfo=tzlocal()), datetime.datetime(2019, 4, 4, 10, 26, 56, tzinfo=tzlocal()), datetime.datetime(2019, 4, 7, 10, 35, 24, tzinfo=tzlocal()), datetime.datetime(2019, 4, 9, 10, 17, 43, tzinfo=tzlocal()), datetime.datetime(2019, 4, 12, 10, 27, 49, tzinfo=tzlocal()), datetime.datetime(2019, 4, 14, 10, 19, 28, tzinfo=tzlocal()), datetime.datetime(2019, 4, 17, 10, 26, 14, tzinfo=tzlocal()), datetime.datetime(2019, 4, 19, 10, 16, 55, tzinfo=tzlocal()), datetime.datetime(2019, 4, 22, 10, 40, 15, tzinfo=tzlocal()), datetime.datetime(2019, 4, 24, 10, 16, 41, tzinfo=tzlocal()), datetime.datetime(2019, 4, 27, 10, 26, 8, tzinfo=tzlocal()), datetime.datetime(2019, 4, 29, 10, 16, 16, tzinfo=tzlocal()), datetime.datetime(2019, 5, 2, 10, 26, 13, tzinfo=tzlocal()), datetime.datetime(2019, 5, 4, 10, 16, 12, tzinfo=tzlocal()), datetime.datetime(2019, 5, 7, 10, 26, 9, tzinfo=tzlocal()), datetime.datetime(2019, 5, 9, 10, 16, 17, tzinfo=tzlocal()), datetime.datetime(2019, 5, 12, 10, 26, 13, tzinfo=tzlocal()), datetime.datetime(2019, 5, 14, 10, 16, 12, tzinfo=tzlocal()), datetime.datetime(2019, 5, 17, 10, 26, 8, tzinfo=tzlocal()), datetime.datetime(2019, 5, 19, 10, 16, 17, tzinfo=tzlocal()), datetime.datetime(2019, 5, 24, 10, 16, 12, tzinfo=tzlocal()), datetime.datetime(2019, 5, 27, 10, 26, 8, tzinfo=tzlocal()), datetime.datetime(2019, 5, 29, 10, 16, 17, tzinfo=tzlocal()), datetime.datetime(2019, 6, 1, 10, 26, 13, tzinfo=tzlocal()), datetime.datetime(2019, 6, 3, 10, 16, 11, tzinfo=tzlocal()), datetime.datetime(2019, 6, 6, 10, 26, 7, tzinfo=tzlocal()), datetime.datetime(2019, 6, 8, 10, 16, 16, tzinfo=tzlocal()), datetime.datetime(2019, 6, 11, 10, 26, 12, tzinfo=tzlocal()), datetime.datetime(2019, 6, 13, 10, 16, 11, tzinfo=tzlocal()), datetime.datetime(2019, 6, 16, 10, 26, 8, tzinfo=tzlocal()), datetime.datetime(2019, 6, 18, 10, 16, 16, tzinfo=tzlocal()), datetime.datetime(2019, 6, 21, 10, 26, 13, tzinfo=tzlocal()), datetime.datetime(2019, 6, 23, 10, 16, 13, tzinfo=tzlocal()), datetime.datetime(2019, 6, 26, 10, 26, 9, tzinfo=tzlocal()), datetime.datetime(2019, 6, 28, 10, 16, 17, tzinfo=tzlocal()), datetime.datetime(2019, 7, 1, 10, 26, 13, tzinfo=tzlocal()), datetime.datetime(2019, 7, 3, 10, 16, 13, tzinfo=tzlocal()), datetime.datetime(2019, 7, 6, 10, 26, 10, tzinfo=tzlocal()), datetime.datetime(2019, 7, 8, 10, 16, 17, tzinfo=tzlocal()), datetime.datetime(2019, 7, 11, 10, 26, 14, tzinfo=tzlocal()), datetime.datetime(2019, 7, 13, 10, 16, 14, tzinfo=tzlocal()), datetime.datetime(2019, 7, 16, 10, 26, 10, tzinfo=tzlocal()), datetime.datetime(2019, 7, 18, 10, 16, 17, tzinfo=tzlocal()), datetime.datetime(2019, 7, 21, 10, 26, 13, tzinfo=tzlocal()), datetime.datetime(2019, 7, 23, 10, 16, 13, tzinfo=tzlocal()), datetime.datetime(2019, 7, 26, 10, 26, 10, tzinfo=tzlocal()), datetime.datetime(2019, 7, 28, 10, 16, 17, tzinfo=tzlocal()), datetime.datetime(2019, 7, 31, 10, 26, 13, tzinfo=tzlocal()), datetime.datetime(2019, 8, 2, 10, 16, 13, tzinfo=tzlocal()), datetime.datetime(2019, 8, 5, 10, 26, 9, tzinfo=tzlocal()), datetime.datetime(2019, 8, 7, 10, 16, 16, tzinfo=tzlocal()), datetime.datetime(2019, 8, 10, 10, 26, 12, tzinfo=tzlocal()), datetime.datetime(2019, 8, 12, 10, 16, 12, tzinfo=tzlocal()), datetime.datetime(2019, 8, 15, 10, 26, 8, tzinfo=tzlocal()), datetime.datetime(2019, 8, 17, 10, 16, 16, tzinfo=tzlocal()), datetime.datetime(2019, 8, 20, 10, 26, 10, tzinfo=tzlocal()), datetime.datetime(2019, 8, 22, 10, 16, 11, tzinfo=tzlocal()), datetime.datetime(2019, 8, 25, 10, 26, 7, tzinfo=tzlocal()), datetime.datetime(2019, 8, 27, 10, 16, 13, tzinfo=tzlocal()), datetime.datetime(2019, 8, 30, 10, 26, 9, tzinfo=tzlocal()), datetime.datetime(2019, 9, 1, 10, 16, 9, tzinfo=tzlocal()), datetime.datetime(2019, 9, 4, 10, 26, 5, tzinfo=tzlocal()), datetime.datetime(2019, 9, 6, 10, 16, 11, tzinfo=tzlocal()), datetime.datetime(2019, 9, 9, 10, 26, 6, tzinfo=tzlocal()), datetime.datetime(2019, 9, 11, 10, 16, 7, tzinfo=tzlocal()), datetime.datetime(2019, 9, 14, 10, 26, 4, tzinfo=tzlocal()), datetime.datetime(2019, 9, 16, 10, 16, 8, tzinfo=tzlocal()), datetime.datetime(2019, 9, 19, 10, 26, 4, tzinfo=tzlocal()), datetime.datetime(2019, 9, 21, 10, 16, 9, tzinfo=tzlocal()), datetime.datetime(2019, 9, 24, 10, 26, 5, tzinfo=tzlocal()), datetime.datetime(2019, 9, 26, 10, 16, 8, tzinfo=tzlocal()), datetime.datetime(2019, 9, 29, 10, 26, 5, tzinfo=tzlocal()), datetime.datetime(2019, 10, 1, 10, 16, 10, tzinfo=tzlocal()), datetime.datetime(2019, 10, 4, 10, 26, 7, tzinfo=tzlocal()), datetime.datetime(2019, 10, 6, 10, 16, 9, tzinfo=tzlocal()), datetime.datetime(2019, 10, 9, 10, 26, 6, tzinfo=tzlocal()), datetime.datetime(2019, 10, 11, 10, 16, 11, tzinfo=tzlocal()), datetime.datetime(2019, 10, 14, 10, 26, 8, tzinfo=tzlocal()), datetime.datetime(2019, 10, 16, 10, 16, 10, tzinfo=tzlocal()), datetime.datetime(2019, 10, 19, 10, 26, 6, tzinfo=tzlocal()), datetime.datetime(2019, 10, 21, 10, 16, 12, tzinfo=tzlocal()), datetime.datetime(2019, 10, 24, 10, 26, 8, tzinfo=tzlocal()), datetime.datetime(2019, 10, 26, 10, 16, 9, tzinfo=tzlocal()), datetime.datetime(2019, 10, 29, 10, 26, 6, tzinfo=tzlocal()), datetime.datetime(2019, 10, 31, 10, 16, 12, tzinfo=tzlocal()), datetime.datetime(2019, 11, 3, 10, 26, 8, tzinfo=tzlocal()), datetime.datetime(2019, 11, 5, 10, 16, 9, tzinfo=tzlocal()), datetime.datetime(2019, 11, 8, 10, 26, 5, tzinfo=tzlocal()), datetime.datetime(2019, 11, 10, 10, 16, 11, tzinfo=tzlocal()), datetime.datetime(2019, 11, 13, 10, 26, 7, tzinfo=tzlocal()), datetime.datetime(2019, 11, 15, 10, 16, 7, tzinfo=tzlocal()), datetime.datetime(2019, 11, 18, 10, 26, 3, tzinfo=tzlocal()), datetime.datetime(2019, 11, 20, 10, 16, 9, tzinfo=tzlocal()), datetime.datetime(2019, 11, 23, 10, 26, 5, tzinfo=tzlocal()), datetime.datetime(2019, 11, 28, 10, 26, 1, tzinfo=tzlocal()), datetime.datetime(2019, 11, 30, 10, 16, 7, tzinfo=tzlocal()), datetime.datetime(2019, 12, 3, 10, 26, 3, tzinfo=tzlocal()), datetime.datetime(2019, 12, 5, 10, 16, 2, tzinfo=tzlocal()), datetime.datetime(2019, 12, 8, 10, 25, 59, tzinfo=tzlocal()), datetime.datetime(2019, 12, 10, 10, 16, 5, tzinfo=tzlocal()), datetime.datetime(2019, 12, 13, 10, 26, tzinfo=tzlocal()), datetime.datetime(2019, 12, 15, 10, 16, 3, tzinfo=tzlocal()), datetime.datetime(2019, 12, 18, 10, 26, tzinfo=tzlocal()), datetime.datetime(2019, 12, 20, 10, 16, 2, tzinfo=tzlocal()), datetime.datetime(2019, 12, 23, 10, 25, 59, tzinfo=tzlocal()), datetime.datetime(2019, 12, 25, 10, 16, 3, tzinfo=tzlocal()), datetime.datetime(2019, 12, 28, 10, 26, tzinfo=tzlocal()), datetime.datetime(2019, 12, 30, 10, 16, 3, tzinfo=tzlocal())]\n"
     ]
    },
    {
     "name": "stderr",
     "output_type": "stream",
     "text": [
      "C:\\Users\\Dell\\AppData\\Local\\Temp\\ipykernel_872\\687672365.py:39: SHDeprecationWarning: The string representation of `BBox` will change to match its `repr` representation.\n",
      "  print(\"Bounding box:\", bbox)\n"
     ]
    }
   ],
   "source": [
    "import os\n",
    "import numpy as np\n",
    "import pickle\n",
    "\n",
    "# Correct file path\n",
    "files_path = \"c:\\\\Users\\\\Dell\\\\Desktop\\\\Sentinal 2\\\\\"\n",
    "\n",
    "# Check file sizes\n",
    "file_sizes = {f: os.path.getsize(files_path + f) for f in os.listdir(files_path)}\n",
    "print(\"File sizes (in bytes):\", file_sizes)\n",
    "\n",
    "# Using memory mapping to load large .npy file\n",
    "bands = np.memmap(files_path + 'BANDS.npy', dtype='float32', mode='r')\n",
    "clp = np.load(files_path + 'CLP.npy')\n",
    "is_data = np.load(files_path + 'IS_DATA.npy')\n",
    "norm_factors = np.load(files_path + 'NORM_FACTORS.npy')\n",
    "scl = np.load(files_path + 'SCL.npy')\n",
    "\n",
    "# Loading .pkl files with error handling\n",
    "def load_pickle_file(file_path):\n",
    "    try:\n",
    "        with open(file_path, 'rb') as f:\n",
    "            return pickle.load(f)\n",
    "    except Exception as e:\n",
    "        print(f\"Error loading {file_path}: {e}\")\n",
    "        return None\n",
    "\n",
    "bbox = load_pickle_file(files_path + 'bbox.pkl')\n",
    "meta_info = load_pickle_file(files_path + 'meta_info.pkl')\n",
    "timestamp = load_pickle_file(files_path + 'timestamp.pkl')\n",
    "\n",
    "# Exploring the data\n",
    "print(\"Bands shape:\", bands.shape)\n",
    "print(\"CLP shape:\", clp.shape)\n",
    "print(\"IS_DATA shape:\", is_data.shape)\n",
    "print(\"Normalization factors shape:\", norm_factors.shape)\n",
    "print(\"SCL shape:\", scl.shape)\n",
    "\n",
    "print(\"Bounding box:\", bbox)\n",
    "print(\"Metadata:\", meta_info)\n",
    "print(\"Timestamp:\", timestamp)\n"
   ]
  },
  {
   "cell_type": "markdown",
   "metadata": {},
   "source": [
    "bands is a 1D array with 4,976,640,032 elements.\n",
    "CLP, IS_DATA, and SCL are 4D arrays with shape (144, 2400, 2400, 1).\n",
    "norm_factors is a 2D array with shape (144, 1).\n",
    "\n",
    "'BANDS.npy' file as before.\n",
    "print the shape of the bands array to see its actual dimensions.\n",
    "print the first 10 elements of the array to get an idea of its contents."
   ]
  },
  {
   "cell_type": "code",
   "execution_count": 10,
   "metadata": {},
   "outputs": [
    {
     "name": "stdout",
     "output_type": "stream",
     "text": [
      "Bands shape: (4976640032,)\n",
      "First 10 elements of bands: [2.2366853e+08 1.2387478e-40 3.4833497e-15 4.4898648e+21 1.5767864e-19\n",
      " 1.4274554e-08 2.2228396e-15 7.6830766e+31 1.7177136e+19 6.7425655e+22\n",
      " 1.5767864e-19 1.8727951e+31 2.2228527e-15 2.7904159e+29 1.5767847e-19]\n"
     ]
    }
   ],
   "source": [
    "import numpy as np\n",
    "import os\n",
    "\n",
    "# Correct file path\n",
    "files_path = \"c:\\\\Users\\\\Dell\\\\Desktop\\\\Sentinal 2\\\\\"\n",
    "\n",
    "# Load the data\n",
    "bands = np.memmap(os.path.join(files_path, 'BANDS.npy'), dtype='float32', mode='r')\n",
    "\n",
    "# Print the shape of the bands array\n",
    "print(\"Bands shape:\", bands.shape)\n",
    "\n",
    "# Let's examine the first few elements\n",
    "print(\"First 10 elements of bands:\", bands[:15])\n",
    "\n",
    "# If you know the expected dimensions of your data, you can reshape it\n",
    "# For example, if you expect a 3D array with shape (height, width, num_bands):\n",
    "# Assuming you know the height, width, and number of bands:\n",
    "# height = ...\n",
    "# width = ...\n",
    "# num_bands = ...\n",
    "# reshaped_bands = bands.reshape(height, width, num_bands)\n",
    "\n",
    "# If you don't know the exact dimensions, we need more information about your data"
   ]
  },
  {
   "cell_type": "markdown",
   "metadata": {},
   "source": []
  },
  {
   "cell_type": "code",
   "execution_count": 11,
   "metadata": {},
   "outputs": [
    {
     "name": "stdout",
     "output_type": "stream",
     "text": [
      "Number of spectral bands: 6\n",
      "Remainder: 32\n"
     ]
    }
   ],
   "source": [
    "total_elements = bands.shape[0]  # 4976640032\n",
    "elements_per_image = 2400 * 2400  # 5760000\n",
    "num_spectral_bands = total_elements // (144 * elements_per_image)\n",
    "\n",
    "print(f\"Number of spectral bands: {num_spectral_bands}\")\n",
    "print(f\"Remainder: {total_elements % (144 * elements_per_image)}\")"
   ]
  },
  {
   "cell_type": "code",
   "execution_count": 14,
   "metadata": {},
   "outputs": [
    {
     "name": "stdout",
     "output_type": "stream",
     "text": [
      "Total elements: 4976640032\n",
      "Elements per image: 5760000\n",
      "Number of time steps: 144\n",
      "Calculated number of bands: 6\n",
      "Remainder: 32\n"
     ]
    }
   ],
   "source": [
    "total_elements = bands.shape[0]  # 4976640032\n",
    "elements_per_image = 2400 * 2400  # 5760000\n",
    "num_time_steps = 144\n",
    "\n",
    "print(f\"Total elements: {total_elements}\")\n",
    "print(f\"Elements per image: {elements_per_image}\")\n",
    "print(f\"Number of time steps: {num_time_steps}\")\n",
    "\n",
    "# Calculate number of bands\n",
    "num_bands = total_elements // (num_time_steps * elements_per_image)\n",
    "print(f\"Calculated number of bands: {num_bands}\")\n",
    "\n",
    "# Check if there's any remainder\n",
    "remainder = total_elements % (num_time_steps * elements_per_image)\n",
    "print(f\"Remainder: {remainder}\")"
   ]
  },
  {
   "cell_type": "code",
   "execution_count": 15,
   "metadata": {},
   "outputs": [
    {
     "name": "stdout",
     "output_type": "stream",
     "text": [
      "Reshaped bands shape: (144, 6, 2400, 2400)\n"
     ]
    }
   ],
   "source": [
    "# Reshape, excluding the extra elements\n",
    "reshaped_bands = bands[:-32].reshape(144, 6, 2400, 2400)\n",
    "print(f\"Reshaped bands shape: {reshaped_bands.shape}\")"
   ]
  },
  {
   "cell_type": "code",
   "execution_count": 16,
   "metadata": {},
   "outputs": [
    {
     "name": "stdout",
     "output_type": "stream",
     "text": [
      "Extra elements:\n",
      "[1.4009205e-29 3.3328318e-32 9.6983885e-27 7.8278344e-28 6.8810742e-28\n",
      " 3.1310949e-27 1.4009205e-29 3.3328318e-32 2.1820158e-26 5.5559073e-28\n",
      " 5.9975702e-28 2.1718491e-27 1.4009241e-29 3.8913580e-32 9.6983885e-27\n",
      " 6.1869999e-28 5.9975702e-28 2.8281813e-27 1.4009241e-29 3.8913580e-32\n",
      " 9.6983885e-27 7.0705337e-28 5.4611280e-28 4.0407566e-27 1.4009469e-29\n",
      " 4.1032047e-32 9.6983885e-27 6.0607686e-28 5.4611280e-28 3.5358857e-27\n",
      " 1.4009469e-29 4.1032047e-32]\n"
     ]
    }
   ],
   "source": [
    "print(\"Extra elements:\")\n",
    "print(bands[-32:])"
   ]
  },
  {
   "cell_type": "code",
   "execution_count": 17,
   "metadata": {},
   "outputs": [
    {
     "name": "stdout",
     "output_type": "stream",
     "text": [
      "Band 1:\n",
      "  Min: 0.0\n",
      "  Max: 1.330661074788474e+37\n",
      "  Mean: 1.6043001684939487e+28\n",
      "  Std Dev: inf\n",
      "\n",
      "Band 2:\n",
      "  Min: 0.0\n",
      "  Max: 1.2386726483853312e+16\n",
      "  Mean: 77204496.0\n",
      "  Std Dev: 950988374016.0\n",
      "\n",
      "Band 3:\n",
      "  Min: 0.0\n",
      "  Max: 8256743800832.0\n",
      "  Mean: 80607.1328125\n",
      "  Std Dev: 573389504.0\n",
      "\n",
      "Band 4:\n",
      "  Min: 0.0\n",
      "  Max: 206472167424.0\n",
      "  Mean: 1428.552490234375\n",
      "  Std Dev: 10009167.0\n",
      "\n",
      "Band 5:\n",
      "  Min: 0.0\n",
      "  Max: 19364913152.0\n",
      "  Mean: 363.0224304199219\n",
      "  Std Dev: 1473523.0\n",
      "\n",
      "Band 6:\n",
      "  Min: 0.0\n",
      "  Max: 32986546307072.0\n",
      "  Mean: 39864.7265625\n",
      "  Std Dev: 1145366272.0\n",
      "\n"
     ]
    }
   ],
   "source": [
    "for i in range(6):\n",
    "    band_data = reshaped_bands[:, i, :, :]\n",
    "    print(f\"Band {i+1}:\")\n",
    "    print(f\"  Min: {band_data.min()}\")\n",
    "    print(f\"  Max: {band_data.max()}\")\n",
    "    print(f\"  Mean: {band_data.mean()}\")\n",
    "    print(f\"  Std Dev: {band_data.std()}\")\n",
    "    print()"
   ]
  },
  {
   "cell_type": "code",
   "execution_count": 32,
   "metadata": {},
   "outputs": [
    {
     "name": "stdout",
     "output_type": "stream",
     "text": [
      "Number of spectral bands: 6\n",
      "Processed time steps 0 to 10\n",
      "Processed time steps 10 to 20\n",
      "Processed time steps 20 to 30\n",
      "Processed time steps 30 to 40\n",
      "Processed time steps 40 to 50\n",
      "Processed time steps 50 to 60\n",
      "Processed time steps 60 to 70\n",
      "Processed time steps 70 to 80\n",
      "Processed time steps 80 to 90\n",
      "Processed time steps 90 to 100\n",
      "Processed time steps 100 to 110\n",
      "Processed time steps 110 to 120\n",
      "Processed time steps 120 to 130\n",
      "Processed time steps 130 to 140\n",
      "Processed time steps 140 to 144\n",
      "Preprocessed features shape: (168800, 8)\n"
     ]
    }
   ],
   "source": [
    "import numpy as np\n",
    "from sklearn.preprocessing import MinMaxScaler\n",
    "\n",
    "# Calculate the number of spectral bands\n",
    "total_elements = bands.shape[0]\n",
    "elements_per_image = 2400 * 2400\n",
    "num_spectral_bands = 6  # As calculated\n",
    "\n",
    "print(f\"Number of spectral bands: {num_spectral_bands}\")\n",
    "\n",
    "# Reshape bands to match other arrays, ignoring the extra 32 elements\n",
    "bands_reshaped = bands[:-32].reshape(144, 2400, 2400, num_spectral_bands)\n",
    "\n",
    "# Define chunk size (adjust as needed based on your available memory)\n",
    "chunk_size = 10  # Process 10 time steps at a time\n",
    "\n",
    "# Get the total number of time steps\n",
    "total_time_steps = 144\n",
    "\n",
    "# Initialize an empty list to store processed features\n",
    "processed_features = []\n",
    "\n",
    "# Process data in chunks\n",
    "for start in range(0, total_time_steps, chunk_size):\n",
    "    end = min(start + chunk_size, total_time_steps)\n",
    "    \n",
    "    # Load a chunk of data\n",
    "    bands_chunk = bands_reshaped[start:end]\n",
    "    clp_chunk = clp[start:end, ..., 0]  # Remove last dimension\n",
    "    is_data_chunk = is_data[start:end, ..., 0]  # Remove last dimension\n",
    "    scl_chunk = scl[start:end, ..., 0]  # Remove last dimension\n",
    "    norm_factors_chunk = norm_factors[start:end]\n",
    "\n",
    "    # 1. Apply cloud mask\n",
    "    cloud_mask = (clp_chunk == 0)  # Assuming 0 means no clouds\n",
    "\n",
    "    # 2. Apply scene classification mask (keep only vegetation)\n",
    "    vegetation_mask = np.isin(scl_chunk, [4, 5, 6, 7])  # Assuming these values represent vegetation\n",
    "\n",
    "    # 3. Combine masks\n",
    "    valid_pixels = cloud_mask & vegetation_mask & is_data_chunk\n",
    "\n",
    "    # 4. Apply normalization factors\n",
    "    normalized_bands = bands_chunk * norm_factors_chunk[:, np.newaxis, np.newaxis, :]\n",
    "\n",
    "    # 5. Calculate vegetation indices\n",
    "    # Adjust these indices based on your actual band order\n",
    "    blue_index, green_index, red_index, nir_index = 0, 1, 2, 3  # Example indices, adjust as needed\n",
    "\n",
    "    def calculate_ndvi(nir, red):\n",
    "        return np.where((nir + red) != 0, (nir - red) / (nir + red), 0)\n",
    "\n",
    "    def calculate_evi(blue, red, nir):\n",
    "        return np.where((nir + 6 * red - 7.5 * blue + 1) != 0, \n",
    "                        2.5 * ((nir - red) / (nir + 6 * red - 7.5 * blue + 1)), 0)\n",
    "\n",
    "    ndvi = calculate_ndvi(normalized_bands[..., nir_index], normalized_bands[..., red_index])\n",
    "    evi = calculate_evi(normalized_bands[..., blue_index], normalized_bands[..., red_index], normalized_bands[..., nir_index])\n",
    "\n",
    "    # 6. Combine all features\n",
    "    features = np.concatenate([normalized_bands, \n",
    "                               ndvi[..., np.newaxis], \n",
    "                               evi[..., np.newaxis]], axis=-1)\n",
    "\n",
    "    # 7. Apply masks to features\n",
    "    masked_features = features[valid_pixels]\n",
    "\n",
    "    # Append to processed features\n",
    "    processed_features.append(masked_features)\n",
    "\n",
    "    print(f\"Processed time steps {start} to {end}\")\n",
    "\n",
    "# Combine all processed features\n",
    "all_features = np.vstack(processed_features)\n",
    "\n",
    "# Normalize features to [0, 1] range\n",
    "scaler = MinMaxScaler()\n",
    "normalized_features = scaler.fit_transform(all_features)\n",
    "\n",
    "np.savez_compressed(\"normalized_features.npz\", image_stack=normalized_features)\n",
    "print(\"Preprocessed features shape:\", normalized_features.shape)"
   ]
  },
  {
   "cell_type": "code",
   "execution_count": 27,
   "metadata": {},
   "outputs": [
    {
     "name": "stdout",
     "output_type": "stream",
     "text": [
      "Shape of normalized_features: (168800, 8)\n"
     ]
    }
   ],
   "source": [
    "print(\"Shape of normalized_features:\", normalized_features.shape)"
   ]
  },
  {
   "cell_type": "code",
   "execution_count": 30,
   "metadata": {},
   "outputs": [
    {
     "name": "stdout",
     "output_type": "stream",
     "text": [
      "Dimensions of labels: (2064, 6)\n",
      "Dimensions of normalized_features: (168800, 8)\n",
      "Boolean mask: 0        True\n",
      "1       False\n",
      "2       False\n",
      "3       False\n",
      "4       False\n",
      "        ...  \n",
      "2059    False\n",
      "2060    False\n",
      "2061     True\n",
      "2062     True\n",
      "2063    False\n",
      "Name: crop_id, Length: 2064, dtype: bool\n",
      "Sum of true values in mask: 742\n"
     ]
    }
   ],
   "source": [
    "print(\"Dimensions of labels:\", labels.shape)\n",
    "print(\"Dimensions of normalized_features:\", normalized_features.shape)\n",
    "print(\"Boolean mask:\", crop_mask)\n",
    "print(\"Sum of true values in mask:\", crop_mask.sum())  # This tells you how many entries match the crop_id\n"
   ]
  },
  {
   "cell_type": "code",
   "execution_count": 45,
   "metadata": {},
   "outputs": [
    {
     "name": "stdout",
     "output_type": "stream",
     "text": [
      "Shape of normalized_features: (0, 8)\n",
      "Shape of labels: (2064, 6)\n",
      "Number of unique crop_ids: 9\n"
     ]
    }
   ],
   "source": [
    "print(\"Shape of normalized_features:\", normalized_features.shape)\n",
    "print(\"Shape of labels:\", labels.shape)\n",
    "print(\"Number of unique crop_ids:\", len(labels['crop_id'].unique()))"
   ]
  }
 ],
 "metadata": {
  "kernelspec": {
   "display_name": "Python 3",
   "language": "python",
   "name": "python3"
  },
  "language_info": {
   "codemirror_mode": {
    "name": "ipython",
    "version": 3
   },
   "file_extension": ".py",
   "mimetype": "text/x-python",
   "name": "python",
   "nbconvert_exporter": "python",
   "pygments_lexer": "ipython3",
   "version": "3.9.6"
  }
 },
 "nbformat": 4,
 "nbformat_minor": 2
}
